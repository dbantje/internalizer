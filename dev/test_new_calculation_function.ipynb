{
 "cells": [
  {
   "cell_type": "code",
   "execution_count": 3,
   "metadata": {},
   "outputs": [],
   "source": [
    "from internalizer import Internalizer\n",
    "import pandas as pd\n",
    "import bw2data as bd"
   ]
  },
  {
   "cell_type": "code",
   "execution_count": 4,
   "metadata": {},
   "outputs": [],
   "source": [
    "# set project\n",
    "ei_version = \"3.10\"\n",
    "project_name = \"internalizer_ei_{}\".format(ei_version)\n",
    "\n",
    "# import ecoinvent databases\n",
    "bd.projects.set_current(project_name)"
   ]
  },
  {
   "cell_type": "code",
   "execution_count": 7,
   "metadata": {},
   "outputs": [
    {
     "data": {
      "text/plain": [
       "Databases dictionary with 1 object(s):\n",
       "\tecoinvent-3.10-biosphere"
      ]
     },
     "execution_count": 7,
     "metadata": {},
     "output_type": "execute_result"
    }
   ],
   "source": [
    "bd.databases"
   ]
  },
  {
   "cell_type": "code",
   "execution_count": 6,
   "metadata": {},
   "outputs": [
    {
     "data": {
      "text/plain": [
       "Brightway2 projects manager with 11 objects:\n",
       "\tGettingStarted\n",
       "\tGettingStarted_EI_3.9.1\n",
       "\tStepByStep\n",
       "\tcosts_paper\n",
       "\tcosts_paper_2.0.1\n",
       "\tcosts_paper_2.0.2\n",
       "\tcosts_paper_2.1.0.dev5\n",
       "\tdefault\n",
       "\tinternalizer_ei_3.10\n",
       "\tlca-monetized_3.10\n",
       "\tpremise_runs_3.10\n",
       "Use `projects.report()` to get a report on all projects."
      ]
     },
     "execution_count": 6,
     "metadata": {},
     "output_type": "execute_result"
    }
   ],
   "source": [
    "bd.projects"
   ]
  },
  {
   "cell_type": "code",
   "execution_count": null,
   "metadata": {},
   "outputs": [],
   "source": [
    "mapping = "
   ]
  }
 ],
 "metadata": {
  "kernelspec": {
   "display_name": "Python 3",
   "language": "python",
   "name": "python3"
  },
  "language_info": {
   "codemirror_mode": {
    "name": "ipython",
    "version": 3
   },
   "file_extension": ".py",
   "mimetype": "text/x-python",
   "name": "python",
   "nbconvert_exporter": "python",
   "pygments_lexer": "ipython3",
   "version": "3.11.11"
  }
 },
 "nbformat": 4,
 "nbformat_minor": 2
}
